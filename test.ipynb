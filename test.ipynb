{
 "cells": [
  {
   "cell_type": "code",
   "execution_count": 1,
   "metadata": {
    "collapsed": true,
    "pycharm": {
     "is_executing": false,
     "name": "#%%\n"
    }
   },
   "outputs": [],
   "source": [
    "import numpy as np\n",
    "import matplotlib.pyplot as plt"
   ]
  },
  {
   "cell_type": "markdown",
   "source": [
    "## Draw a scatter chart"
   ],
   "metadata": {
    "collapsed": false,
    "pycharm": {
     "name": "#%% md\n"
    }
   }
  },
  {
   "cell_type": "code",
   "execution_count": 2,
   "outputs": [
    {
     "name": "stdout",
     "text": [
      "X-axis values:\n [5.50086917e-01 8.29431796e-01 5.39036891e-01 5.47854851e-01\n 9.00636355e-02 8.16170781e-02 2.97800613e-01 3.93187773e-01\n 9.37927459e-01 8.33755064e-01 9.19179677e-02 8.37219361e-01\n 3.43834833e-01 3.78747923e-04 4.06673848e-01 5.27964701e-01\n 1.94934046e-01 9.10403573e-01 6.67913396e-01 4.13892162e-01]\nY-axis values:\n [0.34811686 0.10822181 0.41781694 0.82902184 0.38862027 0.84147855\n 0.18487251 0.95541368 0.92372757 0.79527458 0.14468411 0.13483358\n 0.90868408 0.19384896 0.35362719 0.23597384 0.40259611 0.02055746\n 0.08052605 0.30677453]\n"
     ],
     "output_type": "stream"
    }
   ],
   "source": [
    "N = 20\n",
    "x = np.random.rand(N)\n",
    "print('X-axis values:\\n', x)\n",
    "y = np.random.rand(N)\n",
    "print('Y-axis values:\\n', y)"
   ],
   "metadata": {
    "collapsed": false,
    "pycharm": {
     "name": "#%%\n",
     "is_executing": false
    }
   }
  },
  {
   "cell_type": "code",
   "execution_count": 2,
   "outputs": [],
   "source": [
    "colors = np.random.rand(N)\n",
    "area = np.pi * (15 * np.random.rand(N))**2\n",
    "plt.scatter(x, y, s=area, c=colors, alpha=0.5)\n",
    "plt.show()\n"
   ],
   "metadata": {
    "collapsed": false,
    "pycharm": {
     "name": "#%%\n",
     "is_executing": false
    }
   }
  }
 ],
 "metadata": {
  "kernelspec": {
   "name": "python3",
   "language": "python",
   "display_name": "Python 3"
  },
  "language_info": {
   "codemirror_mode": {
    "name": "ipython",
    "version": 2
   },
   "file_extension": ".py",
   "mimetype": "text/x-python",
   "name": "python",
   "nbconvert_exporter": "python",
   "pygments_lexer": "ipython2",
   "version": "2.7.6"
  },
  "pycharm": {
   "stem_cell": {
    "cell_type": "raw",
    "source": [],
    "metadata": {
     "collapsed": false
    }
   }
  }
 },
 "nbformat": 4,
 "nbformat_minor": 0
}