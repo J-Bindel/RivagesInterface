{
 "cells": [
  {
   "cell_type": "code",
   "execution_count": null,
   "metadata": {},
   "outputs": [],
   "source": [
    "### coding:utf-8\n",
    "import os\n",
    "import pandas as pd\n",
    "import threading\n",
    "from model_modflow import model_modflow as modflow\n",
    "from model_modpath import model_modpath as modpath\n",
    "from model_seawat import model_seawat as seawat\n",
    "from vtk_export_grid import vtk_export_grid as vtk_grid\n",
    "from vtk_export_watertable import vtk_export_watertable as vtk_watertable\n",
    "from vtk_export_pathlines import vtk_export_pathlines as vtk_pathlines\n",
    "from IPython.core.debugger import set_trace as st\n",
    "\n",
    "########################################################################################################################\n",
    "#                                                      MODEL SETTINGS                                                  #\n",
    "########################################################################################################################\n",
    "\n",
    "# FOLDER\n",
    "filename = r'C:/Users/alexa/Dropbox/DEM/'\n",
    "\n",
    "site_number = [1] #Select site number\n",
    "permeability = [0.864]\n",
    "theta = [0.01]\n",
    "geology = [0]\n",
    "time = [0.001]\n",
    "thick = [50]\n",
    "\n",
    "def setting(site_number,permeability, time, geology, theta, thick):\n",
    "    # STUDY SITES\n",
    "    sites = pd.read_csv(filename+\"study_sites.txt\", sep='\\s+', header=0, index_col=0)\n",
    "    site = sites.to_numpy()\n",
    "    coordinates = site[site_number,1:5]\n",
    "    port=int(site[site_number,5])\n",
    "    # TIME DISCRETIZATION\n",
    "    time_param = time  # 0: chronicle | 1: mean (1 day Steady State) | 2: min (1 day SS) | 3: max (1 day SS) | 4: 7 periods (R/4 R/2 R 2R 4R 6R 8R) | or values of recharge (1 SS)\n",
    "\n",
    "    # STRUCTURE\n",
    "    geology_param = geology  # 0: homogeneous geology | 1: heterogeneous geology\n",
    "    permeability_param = permeability  # m/d | only if geology_param = 0\n",
    "    theta_param = theta # Porosity in %\n",
    "    thickness_param = thick  # 0: homogeneous thickness | 1: flat bottom (heterogeneous thickness) | or values of thicknesse\n",
    "\n",
    "    # MODEL NAME\n",
    "    sitename = sites.index._data[site_number] + '/'\n",
    "    modelname = r'model_' + 'time_' + str(time_param) + '_geo_' + str(geology_param) + '_thick_' + str(thickness_param)\n",
    "    if geology_param == 0:\n",
    "        modelname = modelname + '_K_' + str(permeability_param) + '_Sy_' + str(theta_param)\n",
    "    sitefolder = filename + sitename \n",
    "    modelfolder =filename + sitename + modelname + '/'\n",
    "    \n",
    "    import model_modflow_calibration as mc\n",
    "    model = mc.calibration(site_number,filename, 'Calibration', filename + sitename + 'Calibration', sitefolder, coordinates, port)\n",
    "    '''st()\n",
    "    # SIMULATION\n",
    "    modflow_param = 1 # 0: disabled | 1: enabled\n",
    "    seawat_param = 0  # 0: disabled | 1: enabled\n",
    "    if time ==4 or time==1 or time not in [0,1,2,3,4]:\n",
    "        modpath_param= 1  # 0: disabled | 1: enabled\n",
    "    else:\n",
    "        modpath_param = 0\n",
    "        \n",
    "    # VTK OUTPUT\n",
    "    grid = 0  # 0: disabled | 1: enabled\n",
    "    watertable = 0 # 0: disabled | 1: enabled\n",
    "    pathlines = 0 # 0: disabled | 1: enabled\n",
    "\n",
    "    # CREATE AND RUN MODFLOW MODEL - SEAWAT MODEL - MODPATH MODEL\n",
    "    if modflow_param == 1:\n",
    "        modflow(site_number=site_number,filename=filename, modelname=modelname, modelfolder=modelfolder,\n",
    "                coord=coordinates, tdis=time_param, geo=geology_param,\n",
    "                permea=permeability_param, thick=thickness_param, port=int(site[site_number,5]), porosity=theta_param)\n",
    "    if seawat_param == 1:\n",
    "        seawat(filename=filename,modelfolder=filename + site_name + model_folder, modelname=model_name)\n",
    "    if modpath_param == 1:\n",
    "        modpath(filename=filename, modelname=model_name, modelfolder=filename + site_name + model_folder)\n",
    "\n",
    "    # CREATE OUTPUT FILES\n",
    "    if not os.path.exists(filename + site_name + model_folder + 'output_files'):\n",
    "        os.makedirs(filename + site_name + model_folder + 'output_files')\n",
    "    if grid == 1:\n",
    "        vtk_grid(modelname=model_name, modelfolder=filename + site_name + model_folder, coord=coordinates)\n",
    "    if watertable == 1:\n",
    "        vtk_watertable(modelname=model_name, modelfolder=filename + site_name + model_folder, coord=coordinates)\n",
    "    if pathlines == 1:\n",
    "        vtk_pathlines(modelname=model_name, modelfolder=filename + site_name + model_folder, coord=coordinates)\n",
    "    '''   \n",
    "compt=0\n",
    "coeur=8\n",
    "for sim in range (0, len(permeability)):\n",
    "    compt += 1\n",
    "    t = threading.Thread(target=setting, args=(site_number[sim], permeability[sim], time[sim], geology[sim], theta[sim], thick[sim]))\n",
    "    t.start()\n",
    "    if int(compt / coeur) == compt / coeur:  # Si compt est multiple de 3\n",
    "        t.join()  # alors on attend que les modèles soient terminées pour recommencer\n",
    "        print(compt)\n",
    "t.join() # On attend que les modèles soient finis pour terminer le calcul"
   ]
  },
  {
   "cell_type": "code",
   "execution_count": null,
   "metadata": {},
   "outputs": [],
   "source": [
    "### coding:utf-8\n",
    "import os\n",
    "import pandas as pd\n",
    "import threading\n",
    "from model_modflow import model_modflow as modflow\n",
    "from model_modpath import model_modpath as modpath\n",
    "from model_seawat import model_seawat as seawat\n",
    "from vtk_export_grid import vtk_export_grid as vtk_grid\n",
    "from vtk_export_watertable import vtk_export_watertable as vtk_watertable\n",
    "from vtk_export_pathlines import vtk_export_pathlines as vtk_pathlines\n",
    "from IPython.core.debugger import set_trace as st\n",
    "# FOLDER\n",
    "filename = r'C:/Users/alexa/Dropbox/DEM/'\n",
    "site_number = 1 #Select site number\n",
    "# STUDY SITES\n",
    "sites = pd.read_csv(filename+\"study_sites.txt\", sep='\\s+', header=0, index_col=0)\n",
    "site = sites.to_numpy()\n",
    "coordinates = site[site_number,1:5]\n",
    "port=int(site[site_number,5])\n",
    "# MODEL NAME\n",
    "sitename = sites.index._data[site_number] + '/'   \n",
    "sitefolder = filename + sitename "
   ]
  },
  {
   "cell_type": "code",
   "execution_count": 1,
   "metadata": {},
   "outputs": [
    {
     "name": "stdout",
     "output_type": "stream",
     "text": [
      "flopy is installed in C:\\Users\\alexa\\miniconda3\\envs\\model\\lib\\site-packages\\flopy\n",
      "Warning: Non-numeric attributes cannot be directly assigned to raster data. A key will be established.\n",
      "\n",
      "Key, Value\n",
      "I740,1\n"
     ]
    }
   ],
   "source": []
  },
  {
   "cell_type": "code",
   "execution_count": null,
   "metadata": {},
   "outputs": [
    {
     "name": "stdout",
     "output_type": "stream",
     "text": [
      "Warning: Non-numeric attributes cannot be directly assigned to raster data. A key will be established.\n",
      "\n",
      "Key, Value\n",
      "I740,1\n",
      "> \u001b[1;32mc:\\users\\alexa\\dropbox\\dem\\model_modflow_calibration.py\u001b[0m(148)\u001b[0;36mget_fuzzy\u001b[1;34m()\u001b[0m\n",
      "\u001b[1;32m    146 \u001b[1;33m        '''\n",
      "\u001b[0m\u001b[1;32m    147 \u001b[1;33m        \u001b[0mst\u001b[0m\u001b[1;33m(\u001b[0m\u001b[1;33m)\u001b[0m\u001b[1;33m\u001b[0m\u001b[1;33m\u001b[0m\u001b[0m\n",
      "\u001b[0m\u001b[1;32m--> 148 \u001b[1;33m        \u001b[1;32mif\u001b[0m \u001b[0mnp\u001b[0m\u001b[1;33m.\u001b[0m\u001b[0misnan\u001b[0m\u001b[1;33m(\u001b[0m\u001b[0mnp\u001b[0m\u001b[1;33m.\u001b[0m\u001b[0msum\u001b[0m\u001b[1;33m(\u001b[0m\u001b[0mhead\u001b[0m\u001b[1;33m)\u001b[0m\u001b[1;33m)\u001b[0m\u001b[1;33m==\u001b[0m\u001b[1;32mTrue\u001b[0m\u001b[1;33m:\u001b[0m\u001b[1;33m\u001b[0m\u001b[1;33m\u001b[0m\u001b[0m\n",
      "\u001b[0m\u001b[1;32m    149 \u001b[1;33m            \u001b[0mparamList\u001b[0m \u001b[1;33m=\u001b[0m \u001b[1;33m[\u001b[0m\u001b[1;33m-\u001b[0m\u001b[1;36m9999\u001b[0m\u001b[1;33m,\u001b[0m\u001b[1;33m-\u001b[0m\u001b[1;36m9999\u001b[0m\u001b[1;33m,\u001b[0m\u001b[1;33m-\u001b[0m\u001b[1;36m9999\u001b[0m\u001b[1;33m,\u001b[0m\u001b[1;33m-\u001b[0m\u001b[1;36m9999\u001b[0m\u001b[1;33m,\u001b[0m\u001b[1;33m-\u001b[0m\u001b[1;36m9999\u001b[0m\u001b[1;33m,\u001b[0m\u001b[1;33m-\u001b[0m\u001b[1;36m9999\u001b[0m\u001b[1;33m,\u001b[0m\u001b[1;33m-\u001b[0m\u001b[1;36m9999\u001b[0m\u001b[1;33m,\u001b[0m\u001b[1;33m-\u001b[0m\u001b[1;36m9999\u001b[0m\u001b[1;33m]\u001b[0m\u001b[1;33m\u001b[0m\u001b[1;33m\u001b[0m\u001b[0m\n",
      "\u001b[0m\u001b[1;32m    150 \u001b[1;33m        \u001b[1;32melse\u001b[0m\u001b[1;33m:\u001b[0m\u001b[1;33m\u001b[0m\u001b[1;33m\u001b[0m\u001b[0m\n",
      "\u001b[0m\n"
     ]
    },
    {
     "name": "stdin",
     "output_type": "stream",
     "text": [
      "ipdb>  figure(self.structure.geology)\n"
     ]
    },
    {
     "data": {
      "image/png": "[encoded data removed]",
      "text/plain": [
       "<Figure size 720x720 with 2 Axes>"
      ]
     },
     "metadata": {
      "needs_background": "light"
     },
     "output_type": "display_data"
    },
    {
     "name": "stdin",
     "output_type": "stream",
     "text": [
      "ipdb>  self_site_number\n"
     ]
    },
    {
     "name": "stdout",
     "output_type": "stream",
     "text": [
      "*** NameError: name 'self_site_number' is not defined\n"
     ]
    },
    {
     "name": "stdin",
     "output_type": "stream",
     "text": [
      "ipdb>  self.site_number\n"
     ]
    },
    {
     "name": "stdout",
     "output_type": "stream",
     "text": [
      "'I740/'\n"
     ]
    },
    {
     "name": "stdin",
     "output_type": "stream",
     "text": [
      "ipdb>  self.number_structure\n"
     ]
    },
    {
     "name": "stdout",
     "output_type": "stream",
     "text": [
      "array([1, 2])\n"
     ]
    }
   ],
   "source": [
    "import model_modflow_calibration as mc\n",
    "model = mc.calibration('I740')\n",
    "model.run_calibration()"
   ]
  },
  {
   "cell_type": "code",
   "execution_count": null,
   "metadata": {},
   "outputs": [],
   "source": [
    "import model_modflow_calibration as mc\n",
    "model = mc.calibration('I740')\n",
    "model.run_best_model()"
   ]
  },
  {
   "cell_type": "code",
   "execution_count": null,
   "metadata": {},
   "outputs": [],
   "source": [
    "import get_geological_structure as ggs\n",
    "ggs.structure('I740')"
   ]
  },
  {
   "cell_type": "code",
   "execution_count": 3,
   "metadata": {},
   "outputs": [
    {
     "name": "stdout",
     "output_type": "stream",
     "text": [
      "Warning: Non-numeric attributes cannot be directly assigned to raster data. A key will be established.\n",
      "\n",
      "Key, Value\n",
      "I740,1\n"
     ]
    },
    {
     "name": "stderr",
     "output_type": "stream",
     "text": [
      "C:\\Users\\alexa\\Dropbox\\DEM\\model_modflow_calibration.py:293: MatplotlibDeprecationWarning: The 'norm' parameter to Colorbar has no effect because it is overridden by the mappable; it is deprecated since 3.3 and will be removed two minor releases later.\n",
      "  #plt.plot(allParams[:,0], allParams[:,1],'+')\n",
      "C:\\Users\\alexa\\Dropbox\\DEM\\model_modflow_calibration.py:285: UserWarning: No contour levels were found within the data range.\n",
      "  im = ax[i].tricontourf(allParams[:,0], allParams[:,1], allFuzzy[:,i], cmap='jet', levels=np.linspace(0,1,22))\n",
      "C:\\Users\\alexa\\Dropbox\\DEM\\model_modflow_calibration.py:288: UserWarning: No contour levels were found within the data range.\n",
      "  im = ax[i].tricontourf(allParams[:,0], allParams[:,1], Si_Sm , cmap='jet', levels=np.linspace(0,1,22),)\n",
      "C:\\Users\\alexa\\Dropbox\\DEM\\model_modflow_calibration.py:291: UserWarning: No contour levels were found within the data range.\n",
      "  im = ax[i].tricontourf(allParams[:,0], allParams[:,1], Ni_Nm, cmap='jet', levels=np.linspace(0,1,22),)\n"
     ]
    },
    {
     "data": {
      "image/png": "[encoded data removed]",
      "text/plain": [
       "<Figure size 1440x288 with 8 Axes>"
      ]
     },
     "metadata": {
      "needs_background": "light"
     },
     "output_type": "display_data"
    }
   ],
   "source": [
    "import model_modflow_calibration as mc\n",
    "model = mc.calibration('I740')\n",
    "model.display_Fuzzy()"
   ]
  },
  {
   "cell_type": "code",
   "execution_count": null,
   "metadata": {},
   "outputs": [],
   "source": [
    "model.fuzzy"
   ]
  },
  {
   "cell_type": "code",
   "execution_count": null,
   "metadata": {},
   "outputs": [
    {
     "name": "stdout",
     "output_type": "stream",
     "text": [
      "flopy is installed in C:\\Users\\alexa\\miniconda3\\envs\\model\\lib\\site-packages\\flopy\n",
      "Warning: Non-numeric attributes cannot be directly assigned to raster data. A key will be established.\n",
      "\n",
      "Key, Value\n",
      "I740,1\n",
      "> \u001b[1;32mc:\\users\\alexa\\dropbox\\dem\\model_modflow_calibration.py\u001b[0m(47)\u001b[0;36mextract_best_temp_model\u001b[1;34m()\u001b[0m\n",
      "\u001b[1;32m     45 \u001b[1;33m        \u001b[0mparamValues_Ea\u001b[0m \u001b[1;33m=\u001b[0m \u001b[0mself\u001b[0m\u001b[1;33m.\u001b[0m\u001b[0mlogParamValues\u001b[0m\u001b[1;33m[\u001b[0m\u001b[1;33m(\u001b[0m\u001b[0mself\u001b[0m\u001b[1;33m.\u001b[0m\u001b[0mfuzzy\u001b[0m\u001b[1;33m[\u001b[0m\u001b[1;33m:\u001b[0m\u001b[1;33m,\u001b[0m\u001b[1;36m1\u001b[0m\u001b[1;33m]\u001b[0m\u001b[1;33m>\u001b[0m\u001b[1;36m0.50\u001b[0m\u001b[1;33m)\u001b[0m \u001b[1;33m&\u001b[0m \u001b[1;33m(\u001b[0m\u001b[0mself\u001b[0m\u001b[1;33m.\u001b[0m\u001b[0mfuzzy\u001b[0m\u001b[1;33m[\u001b[0m\u001b[1;33m:\u001b[0m\u001b[1;33m,\u001b[0m\u001b[1;36m1\u001b[0m\u001b[1;33m]\u001b[0m\u001b[1;33m<\u001b[0m\u001b[1;36m1\u001b[0m\u001b[1;33m)\u001b[0m\u001b[1;33m]\u001b[0m\u001b[1;33m\u001b[0m\u001b[1;33m\u001b[0m\u001b[0m\n",
      "\u001b[0m\u001b[1;32m     46 \u001b[1;33m        \u001b[0mst\u001b[0m\u001b[1;33m(\u001b[0m\u001b[1;33m)\u001b[0m\u001b[1;33m\u001b[0m\u001b[1;33m\u001b[0m\u001b[0m\n",
      "\u001b[0m\u001b[1;32m---> 47 \u001b[1;33m        \u001b[0mindex\u001b[0m \u001b[1;33m=\u001b[0m \u001b[1;33m(\u001b[0m\u001b[0mnp\u001b[0m\u001b[1;33m.\u001b[0m\u001b[0mabs\u001b[0m\u001b[1;33m(\u001b[0m\u001b[0mfuzzy_Ea\u001b[0m\u001b[1;33m[\u001b[0m\u001b[1;33m:\u001b[0m\u001b[1;33m,\u001b[0m\u001b[1;36m0\u001b[0m\u001b[1;33m]\u001b[0m\u001b[1;33m-\u001b[0m\u001b[1;36m1\u001b[0m\u001b[1;33m)\u001b[0m\u001b[1;33m)\u001b[0m\u001b[1;33m.\u001b[0m\u001b[0margmin\u001b[0m\u001b[1;33m(\u001b[0m\u001b[1;33m)\u001b[0m\u001b[1;33m\u001b[0m\u001b[1;33m\u001b[0m\u001b[0m\n",
      "\u001b[0m\u001b[1;32m     48 \u001b[1;33m        \u001b[0mself\u001b[0m\u001b[1;33m.\u001b[0m\u001b[0mpredictParamValues\u001b[0m \u001b[1;33m=\u001b[0m \u001b[0mparamValues_Ea\u001b[0m\u001b[1;33m[\u001b[0m\u001b[0mindex\u001b[0m\u001b[1;33m]\u001b[0m\u001b[1;33m\u001b[0m\u001b[1;33m\u001b[0m\u001b[0m\n",
      "\u001b[0m\u001b[1;32m     49 \u001b[1;33m        \u001b[0mprint\u001b[0m\u001b[1;33m(\u001b[0m\u001b[0mfuzzy_Ea\u001b[0m\u001b[1;33m[\u001b[0m\u001b[0mindex\u001b[0m\u001b[1;33m,\u001b[0m\u001b[1;36m0\u001b[0m\u001b[1;33m]\u001b[0m\u001b[1;33m,\u001b[0m \u001b[0mfuzzy_Ea\u001b[0m\u001b[1;33m[\u001b[0m\u001b[0mindex\u001b[0m\u001b[1;33m,\u001b[0m\u001b[1;36m1\u001b[0m\u001b[1;33m]\u001b[0m\u001b[1;33m,\u001b[0m\u001b[0mself\u001b[0m\u001b[1;33m.\u001b[0m\u001b[0mpredictParamValues\u001b[0m\u001b[1;33m)\u001b[0m\u001b[1;33m\u001b[0m\u001b[1;33m\u001b[0m\u001b[0m\n",
      "\u001b[0m\n"
     ]
    },
    {
     "name": "stdin",
     "output_type": "stream",
     "text": [
      "ipdb>  fuzzy_Ea\n"
     ]
    },
    {
     "name": "stdout",
     "output_type": "stream",
     "text": [
      "array([], shape=(0, 8), dtype=float64)\n"
     ]
    },
    {
     "name": "stdin",
     "output_type": "stream",
     "text": [
      "ipdb>  self.fuzzy\n"
     ]
    },
    {
     "name": "stdout",
     "output_type": "stream",
     "text": [
      "array([[-9999., -9999., -9999., -9999., -9999., -9999., -9999., -9999.],\n",
      "       [-9999., -9999., -9999., -9999., -9999., -9999., -9999., -9999.],\n",
      "       [-9999., -9999., -9999., -9999., -9999., -9999., -9999., -9999.],\n",
      "       [-9999., -9999., -9999., -9999., -9999., -9999., -9999., -9999.],\n",
      "       [-9999., -9999., -9999., -9999., -9999., -9999., -9999., -9999.],\n",
      "       [-9999., -9999., -9999., -9999., -9999., -9999., -9999., -9999.],\n",
      "       [-9999., -9999., -9999., -9999., -9999., -9999., -9999., -9999.],\n",
      "       [-9999., -9999., -9999., -9999., -9999., -9999., -9999., -9999.],\n",
      "       [-9999., -9999., -9999., -9999., -9999., -9999., -9999., -9999.],\n",
      "       [-9999., -9999., -9999., -9999., -9999., -9999., -9999., -9999.],\n",
      "       [-9999., -9999., -9999., -9999., -9999., -9999., -9999., -9999.],\n",
      "       [-9999., -9999., -9999., -9999., -9999., -9999., -9999., -9999.],\n",
      "       [-9999., -9999., -9999., -9999., -9999., -9999., -9999., -9999.],\n",
      "       [-9999., -9999., -9999., -9999., -9999., -9999., -9999., -9999.],\n",
      "       [-9999., -9999., -9999., -9999., -9999., -9999., -9999., -9999.],\n",
      "       [-9999., -9999., -9999., -9999., -9999., -9999., -9999., -9999.],\n",
      "       [-9999., -9999., -9999., -9999., -9999., -9999., -9999., -9999.],\n",
      "       [-9999., -9999., -9999., -9999., -9999., -9999., -9999., -9999.],\n",
      "       [-9999., -9999., -9999., -9999., -9999., -9999., -9999., -9999.],\n",
      "       [-9999., -9999., -9999., -9999., -9999., -9999., -9999., -9999.],\n",
      "       [-9999., -9999., -9999., -9999., -9999., -9999., -9999., -9999.],\n",
      "       [-9999., -9999., -9999., -9999., -9999., -9999., -9999., -9999.],\n",
      "       [-9999., -9999., -9999., -9999., -9999., -9999., -9999., -9999.],\n",
      "       [-9999., -9999., -9999., -9999., -9999., -9999., -9999., -9999.],\n",
      "       [-9999., -9999., -9999., -9999., -9999., -9999., -9999., -9999.],\n",
      "       [-9999., -9999., -9999., -9999., -9999., -9999., -9999., -9999.],\n",
      "       [-9999., -9999., -9999., -9999., -9999., -9999., -9999., -9999.],\n",
      "       [-9999., -9999., -9999., -9999., -9999., -9999., -9999., -9999.],\n",
      "       [-9999., -9999., -9999., -9999., -9999., -9999., -9999., -9999.],\n",
      "       [-9999., -9999., -9999., -9999., -9999., -9999., -9999., -9999.],\n",
      "       [-9999., -9999., -9999., -9999., -9999., -9999., -9999., -9999.],\n",
      "       [-9999., -9999., -9999., -9999., -9999., -9999., -9999., -9999.],\n",
      "       [-9999., -9999., -9999., -9999., -9999., -9999., -9999., -9999.],\n",
      "       [-9999., -9999., -9999., -9999., -9999., -9999., -9999., -9999.],\n",
      "       [-9999., -9999., -9999., -9999., -9999., -9999., -9999., -9999.],\n",
      "       [-9999., -9999., -9999., -9999., -9999., -9999., -9999., -9999.],\n",
      "       [-9999., -9999., -9999., -9999., -9999., -9999., -9999., -9999.],\n",
      "       [-9999., -9999., -9999., -9999., -9999., -9999., -9999., -9999.],\n",
      "       [-9999., -9999., -9999., -9999., -9999., -9999., -9999., -9999.],\n",
      "       [-9999., -9999., -9999., -9999., -9999., -9999., -9999., -9999.],\n",
      "       [-9999., -9999., -9999., -9999., -9999., -9999., -9999., -9999.],\n",
      "       [-9999., -9999., -9999., -9999., -9999., -9999., -9999., -9999.],\n",
      "       [-9999., -9999., -9999., -9999., -9999., -9999., -9999., -9999.],\n",
      "       [-9999., -9999., -9999., -9999., -9999., -9999., -9999., -9999.],\n",
      "       [-9999., -9999., -9999., -9999., -9999., -9999., -9999., -9999.],\n",
      "       [-9999., -9999., -9999., -9999., -9999., -9999., -9999., -9999.],\n",
      "       [-9999., -9999., -9999., -9999., -9999., -9999., -9999., -9999.],\n",
      "       [-9999., -9999., -9999., -9999., -9999., -9999., -9999., -9999.],\n",
      "       [-9999., -9999., -9999., -9999., -9999., -9999., -9999., -9999.]])\n"
     ]
    }
   ],
   "source": [
    "import model_modflow_calibration as mc\n",
    "model = mc.calibration('I740')\n",
    "model.extract_best_temp_model()"
   ]
  },
  {
   "cell_type": "code",
   "execution_count": null,
   "metadata": {},
   "outputs": [],
   "source": []
  }
 ],
 "metadata": {
  "kernelspec": {
   "display_name": "Python 3",
   "language": "python",
   "name": "python3"
  },
  "language_info": {
   "codemirror_mode": {
    "name": "ipython",
    "version": 3
   },
   "file_extension": ".py",
   "mimetype": "text/x-python",
   "name": "python",
   "nbconvert_exporter": "python",
   "pygments_lexer": "ipython3",
   "version": "3.7.9"
  }
 },
 "nbformat": 4,
 "nbformat_minor": 4
}
