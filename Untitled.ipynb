{
 "cells": [
  {
   "cell_type": "code",
   "execution_count": 3,
   "metadata": {},
   "outputs": [],
   "source": [
    "import k3d\n",
    "import os\n",
    "import vtk\n",
    "from vtk.util import numpy_support\n",
    "\n",
    "import numpy as np"
   ]
  },
  {
   "cell_type": "code",
   "execution_count": 4,
   "metadata": {},
   "outputs": [
    {
     "data": {
      "application/vnd.jupyter.widget-view+json": {
       "model_id": "31426d69c9e34c0b9a78794decc8cba7",
       "version_major": 2,
       "version_minor": 0
      },
      "text/plain": [
       "Output()"
      ]
     },
     "metadata": {},
     "output_type": "display_data"
    }
   ],
   "source": [
    "plot = k3d.plot(camera_auto_fit=False)\n",
    "plot.display()"
   ]
  },
  {
   "cell_type": "code",
   "execution_count": 28,
   "metadata": {},
   "outputs": [],
   "source": [
    "filename = './cutter/output_fem.vtu'\n",
    "reader = vtk.vtkXMLUnstructuredGridReader()\n",
    "reader.SetFileName(filename)\n",
    "reader.Update()"
   ]
  },
  {
   "cell_type": "code",
   "execution_count": 29,
   "metadata": {},
   "outputs": [
    {
     "data": {
      "text/plain": [
       "array([0., 0., 0.])"
      ]
     },
     "execution_count": 29,
     "metadata": {},
     "output_type": "execute_result"
    }
   ],
   "source": [
    "grid = reader.GetOutput()\n",
    "bbox = np.array(grid.GetBounds()).reshape(3,2)\n",
    "center = np.mean(bbox,axis=1)\n",
    "center"
   ]
  },
  {
   "cell_type": "code",
   "execution_count": 30,
   "metadata": {},
   "outputs": [],
   "source": [
    "plane = vtk.vtkPlane()\n",
    "plane.SetOrigin(*center)\n",
    "plane.SetNormal(1,0.3,0)"
   ]
  },
  {
   "cell_type": "code",
   "execution_count": 31,
   "metadata": {},
   "outputs": [],
   "source": [
    "def vtk_ExtractSurface(vtk_outputport,vtk_o,vtk_n):\n",
    "\n",
    "    plane.SetOrigin(*vtk_o)\n",
    "    plane.SetNormal(*vtk_n)\n",
    "\n",
    "    myExtractGeometry = vtk.vtkExtractGeometry()\n",
    "    myExtractGeometry.SetInputConnection(vtk_outputport)\n",
    "    myExtractGeometry.SetImplicitFunction(plane)\n",
    "    myExtractGeometry.ExtractInsideOn()\n",
    "    myExtractGeometry.SetExtractBoundaryCells(0);\n",
    "    myExtractGeometry.Update()\n",
    "\n",
    "    myExtractSurface = vtk.vtkDataSetSurfaceFilter()\n",
    "    myExtractSurface.SetInputConnection(myExtractGeometry.GetOutputPort())\n",
    "    myExtractSurface.Update()\n",
    "\n",
    "    return myExtractSurface.GetOutput()"
   ]
  },
  {
   "cell_type": "code",
   "execution_count": 32,
   "metadata": {},
   "outputs": [],
   "source": [
    "def update_from_cut(reader,vtk_o,vtk_n,plt_vtk):\n",
    "    poly_data =  vtk_ExtractSurface(reader.GetOutputPort(),vtk_o,vtk_n)\n",
    "    if poly_data.GetNumberOfCells() > 0:\n",
    "        vertices,indices,attribute = get_mesh_data(poly_data)\n",
    "        with plt_vtk.hold_sync():\n",
    "            plt_vtk.vertices = vertices\n",
    "            plt_vtk.indices = indices\n",
    "            plt_vtk.attribute = attribute"
   ]
  },
  {
   "cell_type": "code",
   "execution_count": 33,
   "metadata": {},
   "outputs": [],
   "source": [
    "def get_mesh_data(poly_data,color_attribute=('Umag', 0.0, 0.1)):\n",
    "\n",
    "    if poly_data.GetPolys().GetMaxCellSize() > 3:\n",
    "            cut_triangles = vtk.vtkTriangleFilter()\n",
    "            cut_triangles.SetInputData(poly_data)\n",
    "            cut_triangles.Update()\n",
    "            poly_data = cut_triangles.GetOutput()\n",
    "\n",
    "    if color_attribute is not None:\n",
    "        attribute = numpy_support.vtk_to_numpy(poly_data.GetPointData().GetArray(color_attribute[0]))\n",
    "        color_range = color_attribute[1:3]\n",
    "    else:\n",
    "        attribute = []\n",
    "        color_range = []\n",
    "\n",
    "    vertices = numpy_support.vtk_to_numpy(poly_data.GetPoints().GetData())\n",
    "    indices = numpy_support.vtk_to_numpy(poly_data.GetPolys().GetData()).reshape(-1, 4)[:, 1:4]\n",
    "\n",
    "    return (np.array(vertices, np.float32),np.array(indices, np.uint32),np.array(attribute, np.float32))"
   ]
  },
  {
   "cell_type": "code",
   "execution_count": 34,
   "metadata": {},
   "outputs": [],
   "source": [
    "def clipping_plane_to_vtkPlane(clipping_plane):\n",
    "    vtk_n = -np.array(clipping_plane[:3])\n",
    "    vtk_o = clipping_plane[3]*vtk_n\n",
    "    return (vtk_o,vtk_n)"
   ]
  },
  {
   "cell_type": "code",
   "execution_count": 35,
   "metadata": {},
   "outputs": [],
   "source": [
    "plane = vtk.vtkPlane()\n",
    "plane.SetOrigin(*center)\n",
    "plane.SetNormal(1,0.3,0)\n",
    "\n",
    "vtk_n = np.array([ 0. ,  .3,  0. ])\n",
    "vtk_o = np.array([ 0.04984861,  20.03934663,  0.04888905])"
   ]
  },
  {
   "cell_type": "code",
   "execution_count": 40,
   "metadata": {},
   "outputs": [
    {
     "ename": "AttributeError",
     "evalue": "'NoneType' object has no attribute 'GetDataType'",
     "output_type": "error",
     "traceback": [
      "\u001b[1;31m---------------------------------------------------------------------------\u001b[0m",
      "\u001b[1;31mAttributeError\u001b[0m                            Traceback (most recent call last)",
      "\u001b[1;32m<ipython-input-40-ac54b1eff154>\u001b[0m in \u001b[0;36m<module>\u001b[1;34m\u001b[0m\n\u001b[0;32m      1\u001b[0m plt_vtk = k3d.vtk_poly_data(vtk_ExtractSurface(reader.GetOutputPort(),vtk_o,vtk_n),\n\u001b[0;32m      2\u001b[0m                             \u001b[0mcolor_attribute\u001b[0m\u001b[1;33m=\u001b[0m\u001b[1;33m(\u001b[0m\u001b[1;34m'Umag'\u001b[0m\u001b[1;33m,\u001b[0m \u001b[1;36m0.0\u001b[0m\u001b[1;33m,\u001b[0m \u001b[1;36m0.1\u001b[0m\u001b[1;33m)\u001b[0m\u001b[1;33m,\u001b[0m\u001b[1;33m\u001b[0m\u001b[1;33m\u001b[0m\u001b[0m\n\u001b[1;32m----> 3\u001b[1;33m                             color_map = k3d.basic_color_maps.Jet)\n\u001b[0m\u001b[0;32m      4\u001b[0m \u001b[0mplot\u001b[0m \u001b[1;33m+=\u001b[0m \u001b[0mplt_vtk\u001b[0m\u001b[1;33m\u001b[0m\u001b[1;33m\u001b[0m\u001b[0m\n",
      "\u001b[1;32m~\\miniconda3\\envs\\model\\lib\\site-packages\\k3d\\factory.py\u001b[0m in \u001b[0;36mvtk_poly_data\u001b[1;34m(poly_data, color, color_attribute, color_map, side, wireframe, opacity, volume, volume_bounds, opacity_function, name, compression_level, **kwargs)\u001b[0m\n\u001b[0;32m    984\u001b[0m \u001b[1;33m\u001b[0m\u001b[0m\n\u001b[0;32m    985\u001b[0m     \u001b[1;32mif\u001b[0m \u001b[0mcolor_attribute\u001b[0m \u001b[1;32mis\u001b[0m \u001b[1;32mnot\u001b[0m \u001b[1;32mNone\u001b[0m\u001b[1;33m:\u001b[0m\u001b[1;33m\u001b[0m\u001b[1;33m\u001b[0m\u001b[0m\n\u001b[1;32m--> 986\u001b[1;33m         \u001b[0mattribute\u001b[0m \u001b[1;33m=\u001b[0m \u001b[0mnumpy_support\u001b[0m\u001b[1;33m.\u001b[0m\u001b[0mvtk_to_numpy\u001b[0m\u001b[1;33m(\u001b[0m\u001b[0mpoly_data\u001b[0m\u001b[1;33m.\u001b[0m\u001b[0mGetPointData\u001b[0m\u001b[1;33m(\u001b[0m\u001b[1;33m)\u001b[0m\u001b[1;33m.\u001b[0m\u001b[0mGetArray\u001b[0m\u001b[1;33m(\u001b[0m\u001b[0mcolor_attribute\u001b[0m\u001b[1;33m[\u001b[0m\u001b[1;36m0\u001b[0m\u001b[1;33m]\u001b[0m\u001b[1;33m)\u001b[0m\u001b[1;33m)\u001b[0m\u001b[1;33m\u001b[0m\u001b[1;33m\u001b[0m\u001b[0m\n\u001b[0m\u001b[0;32m    987\u001b[0m         \u001b[0mcolor_range\u001b[0m \u001b[1;33m=\u001b[0m \u001b[0mcolor_attribute\u001b[0m\u001b[1;33m[\u001b[0m\u001b[1;36m1\u001b[0m\u001b[1;33m:\u001b[0m\u001b[1;36m3\u001b[0m\u001b[1;33m]\u001b[0m\u001b[1;33m\u001b[0m\u001b[1;33m\u001b[0m\u001b[0m\n\u001b[0;32m    988\u001b[0m     \u001b[1;32melse\u001b[0m\u001b[1;33m:\u001b[0m\u001b[1;33m\u001b[0m\u001b[1;33m\u001b[0m\u001b[0m\n",
      "\u001b[1;32m~\\miniconda3\\envs\\model\\lib\\site-packages\\vtkmodules\\util\\numpy_support.py\u001b[0m in \u001b[0;36mvtk_to_numpy\u001b[1;34m(vtk_array)\u001b[0m\n\u001b[0;32m    214\u001b[0m \u001b[1;33m\u001b[0m\u001b[0m\n\u001b[0;32m    215\u001b[0m     \"\"\"\n\u001b[1;32m--> 216\u001b[1;33m     \u001b[0mtyp\u001b[0m \u001b[1;33m=\u001b[0m \u001b[0mvtk_array\u001b[0m\u001b[1;33m.\u001b[0m\u001b[0mGetDataType\u001b[0m\u001b[1;33m(\u001b[0m\u001b[1;33m)\u001b[0m\u001b[1;33m\u001b[0m\u001b[1;33m\u001b[0m\u001b[0m\n\u001b[0m\u001b[0;32m    217\u001b[0m     \u001b[1;32massert\u001b[0m \u001b[0mtyp\u001b[0m \u001b[1;32min\u001b[0m \u001b[0mget_vtk_to_numpy_typemap\u001b[0m\u001b[1;33m(\u001b[0m\u001b[1;33m)\u001b[0m\u001b[1;33m.\u001b[0m\u001b[0mkeys\u001b[0m\u001b[1;33m(\u001b[0m\u001b[1;33m)\u001b[0m\u001b[1;33m,\u001b[0m\u001b[0;31m \u001b[0m\u001b[0;31m\\\u001b[0m\u001b[1;33m\u001b[0m\u001b[1;33m\u001b[0m\u001b[0m\n\u001b[0;32m    218\u001b[0m            \u001b[1;34m\"Unsupported array type %s\"\u001b[0m\u001b[1;33m%\u001b[0m\u001b[0mtyp\u001b[0m\u001b[1;33m\u001b[0m\u001b[1;33m\u001b[0m\u001b[0m\n",
      "\u001b[1;31mAttributeError\u001b[0m: 'NoneType' object has no attribute 'GetDataType'"
     ]
    }
   ],
   "source": [
    "plt_vtk = k3d.vtk_poly_data(vtk_ExtractSurface(reader.GetOutputPort(),vtk_o,vtk_n),\n",
    "                            color_attribute=('Umag', 0.0, 0.1),\n",
    "                            color_map = k3d.basic_color_maps.Jet)\n",
    "plot += plt_vtk"
   ]
  },
  {
   "cell_type": "code",
   "execution_count": 37,
   "metadata": {},
   "outputs": [
    {
     "ename": "NameError",
     "evalue": "name 'plt_vtk' is not defined",
     "output_type": "error",
     "traceback": [
      "\u001b[1;31m---------------------------------------------------------------------------\u001b[0m",
      "\u001b[1;31mNameError\u001b[0m                                 Traceback (most recent call last)",
      "\u001b[1;32m<ipython-input-37-3552aa8b2665>\u001b[0m in \u001b[0;36m<module>\u001b[1;34m\u001b[0m\n\u001b[1;32m----> 1\u001b[1;33m \u001b[0mupdate_from_cut\u001b[0m\u001b[1;33m(\u001b[0m\u001b[0mreader\u001b[0m\u001b[1;33m,\u001b[0m\u001b[0mcenter\u001b[0m\u001b[1;33m+\u001b[0m\u001b[1;36m0.0\u001b[0m\u001b[1;33m,\u001b[0m\u001b[1;33m[\u001b[0m\u001b[1;36m1\u001b[0m\u001b[1;33m,\u001b[0m\u001b[1;36m0\u001b[0m\u001b[1;33m,\u001b[0m\u001b[1;36m0\u001b[0m\u001b[1;33m]\u001b[0m\u001b[1;33m,\u001b[0m \u001b[0mplt_vtk\u001b[0m\u001b[1;33m)\u001b[0m\u001b[1;33m\u001b[0m\u001b[1;33m\u001b[0m\u001b[0m\n\u001b[0m",
      "\u001b[1;31mNameError\u001b[0m: name 'plt_vtk' is not defined"
     ]
    }
   ],
   "source": [
    "update_from_cut(reader,center+0.0,[1,0,0], plt_vtk)"
   ]
  },
  {
   "cell_type": "code",
   "execution_count": 38,
   "metadata": {},
   "outputs": [
    {
     "data": {
      "application/vnd.jupyter.widget-view+json": {
       "model_id": "2993f5a8d20b4b049ed48a7a682037b4",
       "version_major": 2,
       "version_minor": 0
      },
      "text/plain": [
       "interactive(children=(FloatSlider(value=0.0, description='s', max=0.1, min=-0.1, step=4e-05), Output()), _dom_…"
      ]
     },
     "metadata": {},
     "output_type": "display_data"
    }
   ],
   "source": [
    "from ipywidgets import FloatSlider, interact\n",
    "@interact(s = FloatSlider(min=-0.1,max=0.1,step=0.00004))\n",
    "def _(s):\n",
    "    update_from_cut(reader,center+s,[1,0,0],plt_vtk)"
   ]
  },
  {
   "cell_type": "code",
   "execution_count": 39,
   "metadata": {},
   "outputs": [
    {
     "ename": "NameError",
     "evalue": "name 'plt_vtk' is not defined",
     "output_type": "error",
     "traceback": [
      "\u001b[1;31m---------------------------------------------------------------------------\u001b[0m",
      "\u001b[1;31mNameError\u001b[0m                                 Traceback (most recent call last)",
      "\u001b[1;32m<ipython-input-39-683011e7d97f>\u001b[0m in \u001b[0;36m<module>\u001b[1;34m\u001b[0m\n\u001b[1;32m----> 1\u001b[1;33m \u001b[0mplt_vtk\u001b[0m\u001b[1;33m.\u001b[0m\u001b[0mcolor_map\u001b[0m \u001b[1;33m=\u001b[0m \u001b[0mk3d\u001b[0m\u001b[1;33m.\u001b[0m\u001b[0mcolormaps\u001b[0m\u001b[1;33m.\u001b[0m\u001b[0mparaview_color_maps\u001b[0m\u001b[1;33m.\u001b[0m\u001b[0mCoolwarm\u001b[0m\u001b[1;33m\u001b[0m\u001b[1;33m\u001b[0m\u001b[0m\n\u001b[0m\u001b[0;32m      2\u001b[0m \u001b[0mplt_vtk\u001b[0m\u001b[1;33m.\u001b[0m\u001b[0mcolor_range\u001b[0m \u001b[1;33m=\u001b[0m \u001b[1;33m[\u001b[0m\u001b[1;36m0\u001b[0m\u001b[1;33m,\u001b[0m\u001b[1;36m0.32\u001b[0m\u001b[1;33m]\u001b[0m\u001b[1;33m\u001b[0m\u001b[1;33m\u001b[0m\u001b[0m\n\u001b[0;32m      3\u001b[0m \u001b[0mplt_vtk\u001b[0m\u001b[1;33m.\u001b[0m\u001b[0mflat_shading\u001b[0m \u001b[1;33m=\u001b[0m \u001b[1;32mTrue\u001b[0m\u001b[1;33m\u001b[0m\u001b[1;33m\u001b[0m\u001b[0m\n",
      "\u001b[1;31mNameError\u001b[0m: name 'plt_vtk' is not defined"
     ]
    }
   ],
   "source": [
    "plt_vtk.color_map = k3d.colormaps.paraview_color_maps.Coolwarm\n",
    "plt_vtk.color_range = [0,0.32]\n",
    "plt_vtk.flat_shading = True"
   ]
  },
  {
   "cell_type": "code",
   "execution_count": null,
   "metadata": {},
   "outputs": [],
   "source": []
  }
 ],
 "metadata": {
  "kernelspec": {
   "display_name": "Python 3",
   "language": "python",
   "name": "python3"
  },
  "language_info": {
   "codemirror_mode": {
    "name": "ipython",
    "version": 3
   },
   "file_extension": ".py",
   "mimetype": "text/x-python",
   "name": "python",
   "nbconvert_exporter": "python",
   "pygments_lexer": "ipython3",
   "version": "3.7.9"
  }
 },
 "nbformat": 4,
 "nbformat_minor": 4
}
